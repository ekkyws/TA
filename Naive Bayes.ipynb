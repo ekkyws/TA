{
 "cells": [
  {
   "cell_type": "code",
   "execution_count": 44,
   "metadata": {},
   "outputs": [],
   "source": [
    "import numpy as np\n",
    "import pandas as pd\n",
    "import pickle\n",
    "import sys\n",
    "from matplotlib import pyplot as plt\n",
    "from sklearn.naive_bayes import MultinomialNB\n",
    "from sklearn.preprocessing import OneHotEncoder\n",
    "from sklearn.metrics import classification_report, confusion_matrix, accuracy_score, recall_score, precision_score, f1_score\n",
    "from sklearn.preprocessing import StandardScaler"
   ]
  },
  {
   "cell_type": "code",
   "execution_count": 45,
   "metadata": {},
   "outputs": [],
   "source": [
    "infile = open('utrixy.p','rb')\n",
    "X,Y = pickle.load(infile)\n",
    "infile.close()"
   ]
  },
  {
   "cell_type": "code",
   "execution_count": 46,
   "metadata": {},
   "outputs": [],
   "source": [
    "infile = open('utrixy_test.p','rb')\n",
    "X_tes,Y_tes = pickle.load(infile)\n",
    "infile.close()"
   ]
  },
  {
   "cell_type": "code",
   "execution_count": 47,
   "metadata": {},
   "outputs": [],
   "source": [
    "naive_bayes = MultinomialNB()\n",
    "naive_bayes.fit(X, Y)\n",
    "predictions = naive_bayes.predict(X_tes)"
   ]
  },
  {
   "cell_type": "code",
   "execution_count": 48,
   "metadata": {},
   "outputs": [
    {
     "name": "stdout",
     "output_type": "stream",
     "text": [
      "[[40  8]\n",
      " [ 4 49]]\n",
      "              precision    recall  f1-score   support\n",
      "\n",
      "           0       0.91      0.83      0.87        48\n",
      "           1       0.86      0.92      0.89        53\n",
      "\n",
      "    accuracy                           0.88       101\n",
      "   macro avg       0.88      0.88      0.88       101\n",
      "weighted avg       0.88      0.88      0.88       101\n",
      "\n",
      "0.8811881188118812\n",
      "0.9245283018867925\n",
      "0.8596491228070176\n",
      "0.8909090909090909\n"
     ]
    }
   ],
   "source": [
    "print(confusion_matrix(Y_tes,predictions))\n",
    "print(classification_report(Y_tes,predictions))\n",
    "print(accuracy_score(Y_tes, predictions))\n",
    "print(recall_score(Y_tes, predictions))\n",
    "print(precision_score(Y_tes, predictions))\n",
    "print(f1_score(Y_tes, predictions))"
   ]
  },
  {
   "cell_type": "code",
   "execution_count": 49,
   "metadata": {},
   "outputs": [],
   "source": [
    "predictions_train = naive_bayes.predict(X)"
   ]
  },
  {
   "cell_type": "code",
   "execution_count": 50,
   "metadata": {},
   "outputs": [
    {
     "name": "stdout",
     "output_type": "stream",
     "text": [
      "[[192   0]\n",
      " [  3 209]]\n",
      "              precision    recall  f1-score   support\n",
      "\n",
      "           0       0.91      0.83      0.87        48\n",
      "           1       0.86      0.92      0.89        53\n",
      "\n",
      "    accuracy                           0.88       101\n",
      "   macro avg       0.88      0.88      0.88       101\n",
      "weighted avg       0.88      0.88      0.88       101\n",
      "\n",
      "0.9925742574257426\n",
      "0.9858490566037735\n",
      "1.0\n",
      "0.9928741092636578\n"
     ]
    }
   ],
   "source": [
    "print(confusion_matrix(Y,predictions_train))\n",
    "print(classification_report(Y_tes,predictions))\n",
    "print(accuracy_score(Y, predictions_train))\n",
    "print(recall_score(Y, predictions_train))\n",
    "print(precision_score(Y, predictions_train))\n",
    "print(f1_score(Y, predictions_train))"
   ]
  },
  {
   "cell_type": "code",
   "execution_count": null,
   "metadata": {},
   "outputs": [],
   "source": []
  }
 ],
 "metadata": {
  "kernelspec": {
   "display_name": "Python 3",
   "language": "python",
   "name": "python3"
  },
  "language_info": {
   "codemirror_mode": {
    "name": "ipython",
    "version": 3
   },
   "file_extension": ".py",
   "mimetype": "text/x-python",
   "name": "python",
   "nbconvert_exporter": "python",
   "pygments_lexer": "ipython3",
   "version": "3.7.4"
  }
 },
 "nbformat": 4,
 "nbformat_minor": 4
}
