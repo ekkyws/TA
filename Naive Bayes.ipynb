{
 "cells": [
  {
   "cell_type": "code",
   "execution_count": 1,
   "metadata": {},
   "outputs": [],
   "source": [
    "import numpy as np\n",
    "import pandas as pd\n",
    "import pickle\n",
    "import sys\n",
    "from matplotlib import pyplot as plt\n",
    "from sklearn.naive_bayes import MultinomialNB\n",
    "from sklearn.preprocessing import OneHotEncoder\n",
    "from sklearn.metrics import classification_report, confusion_matrix, accuracy_score, recall_score, precision_score, f1_score\n",
    "from sklearn.preprocessing import StandardScaler"
   ]
  },
  {
   "cell_type": "code",
   "execution_count": 2,
   "metadata": {},
   "outputs": [],
   "source": [
    "infile = open('xy23.p','rb')\n",
    "X,Y = pickle.load(infile)\n",
    "infile.close()"
   ]
  },
  {
   "cell_type": "code",
   "execution_count": 3,
   "metadata": {},
   "outputs": [],
   "source": [
    "infile = open('xy_test23.p','rb')\n",
    "X_tes,Y_tes = pickle.load(infile)\n",
    "infile.close()"
   ]
  },
  {
   "cell_type": "code",
   "execution_count": 4,
   "metadata": {},
   "outputs": [],
   "source": [
    "naive_bayes = MultinomialNB()\n",
    "naive_bayes.fit(X, Y)\n",
    "predictions = naive_bayes.predict(X_tes)"
   ]
  },
  {
   "cell_type": "code",
   "execution_count": 5,
   "metadata": {},
   "outputs": [
    {
     "name": "stdout",
     "output_type": "stream",
     "text": [
      "[[36 12]\n",
      " [ 2 51]]\n",
      "              precision    recall  f1-score   support\n",
      "\n",
      "           0       0.95      0.75      0.84        48\n",
      "           1       0.81      0.96      0.88        53\n",
      "\n",
      "    accuracy                           0.86       101\n",
      "   macro avg       0.88      0.86      0.86       101\n",
      "weighted avg       0.88      0.86      0.86       101\n",
      "\n",
      "0.8613861386138614\n",
      "0.9622641509433962\n",
      "0.8095238095238095\n",
      "0.8793103448275862\n"
     ]
    }
   ],
   "source": [
    "print(confusion_matrix(Y_tes,predictions))\n",
    "print(classification_report(Y_tes,predictions))\n",
    "print(accuracy_score(Y_tes, predictions))\n",
    "print(recall_score(Y_tes, predictions))\n",
    "print(precision_score(Y_tes, predictions))\n",
    "print(f1_score(Y_tes, predictions))"
   ]
  },
  {
   "cell_type": "code",
   "execution_count": 6,
   "metadata": {},
   "outputs": [],
   "source": [
    "predictions_train = naive_bayes.predict(X)"
   ]
  },
  {
   "cell_type": "code",
   "execution_count": 7,
   "metadata": {},
   "outputs": [
    {
     "name": "stdout",
     "output_type": "stream",
     "text": [
      "[[187   5]\n",
      " [  4 208]]\n",
      "              precision    recall  f1-score   support\n",
      "\n",
      "           0       0.95      0.75      0.84        48\n",
      "           1       0.81      0.96      0.88        53\n",
      "\n",
      "    accuracy                           0.86       101\n",
      "   macro avg       0.88      0.86      0.86       101\n",
      "weighted avg       0.88      0.86      0.86       101\n",
      "\n",
      "0.9777227722772277\n",
      "0.9811320754716981\n",
      "0.9765258215962441\n",
      "0.9788235294117646\n"
     ]
    }
   ],
   "source": [
    "print(confusion_matrix(Y,predictions_train))\n",
    "print(classification_report(Y_tes,predictions))\n",
    "print(accuracy_score(Y, predictions_train))\n",
    "print(recall_score(Y, predictions_train))\n",
    "print(precision_score(Y, predictions_train))\n",
    "print(f1_score(Y, predictions_train))"
   ]
  },
  {
   "cell_type": "code",
   "execution_count": null,
   "metadata": {},
   "outputs": [],
   "source": []
  }
 ],
 "metadata": {
  "kernelspec": {
   "display_name": "Python 3",
   "language": "python",
   "name": "python3"
  },
  "language_info": {
   "codemirror_mode": {
    "name": "ipython",
    "version": 3
   },
   "file_extension": ".py",
   "mimetype": "text/x-python",
   "name": "python",
   "nbconvert_exporter": "python",
   "pygments_lexer": "ipython3",
   "version": "3.7.4"
  }
 },
 "nbformat": 4,
 "nbformat_minor": 4
}
