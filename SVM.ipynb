{
 "cells": [
  {
   "cell_type": "code",
   "execution_count": 1,
   "metadata": {},
   "outputs": [],
   "source": [
    "import numpy as np\n",
    "import pandas as pd\n",
    "import pickle\n",
    "import sys\n",
    "from matplotlib import pyplot as plt\n",
    "from sklearn.svm import SVC\n",
    "import argparse as argparse\n",
    "from sklearn.preprocessing import OneHotEncoder\n",
    "from sklearn.metrics import classification_report, confusion_matrix, accuracy_score, recall_score, precision_score, f1_score\n",
    "from sklearn.preprocessing import StandardScaler"
   ]
  },
  {
   "cell_type": "code",
   "execution_count": 2,
   "metadata": {},
   "outputs": [],
   "source": [
    "infile = open('ubixy.p','rb')\n",
    "X,Y = pickle.load(infile)\n",
    "infile.close()"
   ]
  },
  {
   "cell_type": "code",
   "execution_count": 3,
   "metadata": {},
   "outputs": [],
   "source": [
    "infile = open('ubixy_test.p','rb')\n",
    "X_tes,Y_tes = pickle.load(infile)\n",
    "infile.close()"
   ]
  },
  {
   "cell_type": "code",
   "execution_count": 4,
   "metadata": {},
   "outputs": [],
   "source": [
    "SVM = SVC(C=1.0, kernel='linear', degree=3, gamma='auto')\n",
    "SVM.fit(X,Y)\n",
    "predictions_SVM = SVM.predict(X_tes)"
   ]
  },
  {
   "cell_type": "code",
   "execution_count": 5,
   "metadata": {},
   "outputs": [
    {
     "name": "stdout",
     "output_type": "stream",
     "text": [
      "[[41  7]\n",
      " [ 4 49]]\n",
      "              precision    recall  f1-score   support\n",
      "\n",
      "           0       0.91      0.85      0.88        48\n",
      "           1       0.88      0.92      0.90        53\n",
      "\n",
      "    accuracy                           0.89       101\n",
      "   macro avg       0.89      0.89      0.89       101\n",
      "weighted avg       0.89      0.89      0.89       101\n",
      "\n",
      "0.8910891089108911\n",
      "0.8910891089108911\n",
      "0.8921617161716172\n",
      "0.8908312553658444\n"
     ]
    }
   ],
   "source": [
    "print(confusion_matrix(Y_tes,predictions_SVM))\n",
    "print(classification_report(Y_tes,predictions_SVM))\n",
    "print(accuracy_score(Y_tes, predictions_SVM))\n",
    "print(recall_score(Y_tes, predictions_SVM, average='weighted' ))\n",
    "print(precision_score(Y_tes, predictions_SVM, average='weighted'))\n",
    "print(f1_score(Y_tes, predictions_SVM, average='weighted'))"
   ]
  },
  {
   "cell_type": "code",
   "execution_count": 6,
   "metadata": {},
   "outputs": [],
   "source": [
    "predictions_train = SVM.predict(X)"
   ]
  },
  {
   "cell_type": "code",
   "execution_count": 7,
   "metadata": {},
   "outputs": [
    {
     "name": "stdout",
     "output_type": "stream",
     "text": [
      "[[191   1]\n",
      " [  3 209]]\n",
      "              precision    recall  f1-score   support\n",
      "\n",
      "           0       0.91      0.85      0.88        48\n",
      "           1       0.88      0.92      0.90        53\n",
      "\n",
      "    accuracy                           0.89       101\n",
      "   macro avg       0.89      0.89      0.89       101\n",
      "weighted avg       0.89      0.89      0.89       101\n",
      "\n",
      "0.9900990099009901\n",
      "0.9900990099009901\n",
      "0.9901519901621975\n",
      "0.9901011980725613\n"
     ]
    }
   ],
   "source": [
    "print(confusion_matrix(Y,predictions_train))\n",
    "print(classification_report(Y_tes,predictions_SVM))\n",
    "print(accuracy_score(Y, predictions_train))\n",
    "print(recall_score(Y, predictions_train, average='weighted'))\n",
    "print(precision_score(Y, predictions_train, average='weighted'))\n",
    "print(f1_score(Y, predictions_train, average='weighted'))"
   ]
  },
  {
   "cell_type": "code",
   "execution_count": null,
   "metadata": {},
   "outputs": [],
   "source": []
  }
 ],
 "metadata": {
  "kernelspec": {
   "display_name": "Python 3",
   "language": "python",
   "name": "python3"
  },
  "language_info": {
   "codemirror_mode": {
    "name": "ipython",
    "version": 3
   },
   "file_extension": ".py",
   "mimetype": "text/x-python",
   "name": "python",
   "nbconvert_exporter": "python",
   "pygments_lexer": "ipython3",
   "version": "3.7.4"
  }
 },
 "nbformat": 4,
 "nbformat_minor": 2
}
